{
 "cells": [
  {
   "cell_type": "markdown",
   "metadata": {},
   "source": [
    "# Supervised Learning - Regression and hyperparameter tuning"
   ]
  },
  {
   "cell_type": "code",
   "execution_count": 17,
   "metadata": {},
   "outputs": [
    {
     "name": "stdout",
     "output_type": "stream",
     "text": [
      "Requirement already satisfied: pandas in /root/Modul_12/AMLHC_Tasks_NAST/.venv/lib/python3.12/site-packages (2.2.3)\n",
      "Requirement already satisfied: numpy>=1.26.0 in /root/Modul_12/AMLHC_Tasks_NAST/.venv/lib/python3.12/site-packages (from pandas) (2.2.4)\n",
      "Requirement already satisfied: python-dateutil>=2.8.2 in /root/Modul_12/AMLHC_Tasks_NAST/.venv/lib/python3.12/site-packages (from pandas) (2.9.0.post0)\n",
      "Requirement already satisfied: pytz>=2020.1 in /root/Modul_12/AMLHC_Tasks_NAST/.venv/lib/python3.12/site-packages (from pandas) (2025.2)\n",
      "Requirement already satisfied: tzdata>=2022.7 in /root/Modul_12/AMLHC_Tasks_NAST/.venv/lib/python3.12/site-packages (from pandas) (2025.2)\n",
      "Requirement already satisfied: six>=1.5 in /root/Modul_12/AMLHC_Tasks_NAST/.venv/lib/python3.12/site-packages (from python-dateutil>=2.8.2->pandas) (1.17.0)\n",
      "\n",
      "\u001b[1m[\u001b[0m\u001b[34;49mnotice\u001b[0m\u001b[1;39;49m]\u001b[0m\u001b[39;49m A new release of pip is available: \u001b[0m\u001b[31;49m25.0.1\u001b[0m\u001b[39;49m -> \u001b[0m\u001b[32;49m25.1.1\u001b[0m\n",
      "\u001b[1m[\u001b[0m\u001b[34;49mnotice\u001b[0m\u001b[1;39;49m]\u001b[0m\u001b[39;49m To update, run: \u001b[0m\u001b[32;49mpip install --upgrade pip\u001b[0m\n",
      "Note: you may need to restart the kernel to use updated packages.\n",
      "Requirement already satisfied: StandardScaler in /root/Modul_12/AMLHC_Tasks_NAST/.venv/lib/python3.12/site-packages (0.5)\n",
      "Requirement already satisfied: numpy in /root/Modul_12/AMLHC_Tasks_NAST/.venv/lib/python3.12/site-packages (from StandardScaler) (2.2.4)\n",
      "Requirement already satisfied: pandas in /root/Modul_12/AMLHC_Tasks_NAST/.venv/lib/python3.12/site-packages (from StandardScaler) (2.2.3)\n",
      "Requirement already satisfied: scikit-learn in /root/Modul_12/AMLHC_Tasks_NAST/.venv/lib/python3.12/site-packages (from StandardScaler) (1.6.1)\n",
      "Requirement already satisfied: scikit-elm in /root/Modul_12/AMLHC_Tasks_NAST/.venv/lib/python3.12/site-packages (from StandardScaler) (0.21a0)\n",
      "Requirement already satisfied: dask in /root/Modul_12/AMLHC_Tasks_NAST/.venv/lib/python3.12/site-packages (from StandardScaler) (2025.3.0)\n",
      "Requirement already satisfied: click>=8.1 in /root/Modul_12/AMLHC_Tasks_NAST/.venv/lib/python3.12/site-packages (from dask->StandardScaler) (8.1.8)\n",
      "Requirement already satisfied: cloudpickle>=3.0.0 in /root/Modul_12/AMLHC_Tasks_NAST/.venv/lib/python3.12/site-packages (from dask->StandardScaler) (3.1.1)\n",
      "Requirement already satisfied: fsspec>=2021.09.0 in /root/Modul_12/AMLHC_Tasks_NAST/.venv/lib/python3.12/site-packages (from dask->StandardScaler) (2025.3.2)\n",
      "Requirement already satisfied: packaging>=20.0 in /root/Modul_12/AMLHC_Tasks_NAST/.venv/lib/python3.12/site-packages (from dask->StandardScaler) (24.2)\n",
      "Requirement already satisfied: partd>=1.4.0 in /root/Modul_12/AMLHC_Tasks_NAST/.venv/lib/python3.12/site-packages (from dask->StandardScaler) (1.4.2)\n",
      "Requirement already satisfied: pyyaml>=5.3.1 in /root/Modul_12/AMLHC_Tasks_NAST/.venv/lib/python3.12/site-packages (from dask->StandardScaler) (6.0.2)\n",
      "Requirement already satisfied: toolz>=0.10.0 in /root/Modul_12/AMLHC_Tasks_NAST/.venv/lib/python3.12/site-packages (from dask->StandardScaler) (1.0.0)\n",
      "Requirement already satisfied: python-dateutil>=2.8.2 in /root/Modul_12/AMLHC_Tasks_NAST/.venv/lib/python3.12/site-packages (from pandas->StandardScaler) (2.9.0.post0)\n",
      "Requirement already satisfied: pytz>=2020.1 in /root/Modul_12/AMLHC_Tasks_NAST/.venv/lib/python3.12/site-packages (from pandas->StandardScaler) (2025.2)\n",
      "Requirement already satisfied: tzdata>=2022.7 in /root/Modul_12/AMLHC_Tasks_NAST/.venv/lib/python3.12/site-packages (from pandas->StandardScaler) (2025.2)\n",
      "Requirement already satisfied: scipy in /root/Modul_12/AMLHC_Tasks_NAST/.venv/lib/python3.12/site-packages (from scikit-elm->StandardScaler) (1.15.2)\n",
      "Requirement already satisfied: joblib>=1.2.0 in /root/Modul_12/AMLHC_Tasks_NAST/.venv/lib/python3.12/site-packages (from scikit-learn->StandardScaler) (1.4.2)\n",
      "Requirement already satisfied: threadpoolctl>=3.1.0 in /root/Modul_12/AMLHC_Tasks_NAST/.venv/lib/python3.12/site-packages (from scikit-learn->StandardScaler) (3.6.0)\n",
      "Requirement already satisfied: locket in /root/Modul_12/AMLHC_Tasks_NAST/.venv/lib/python3.12/site-packages (from partd>=1.4.0->dask->StandardScaler) (1.0.0)\n",
      "Requirement already satisfied: six>=1.5 in /root/Modul_12/AMLHC_Tasks_NAST/.venv/lib/python3.12/site-packages (from python-dateutil>=2.8.2->pandas->StandardScaler) (1.17.0)\n",
      "\n",
      "\u001b[1m[\u001b[0m\u001b[34;49mnotice\u001b[0m\u001b[1;39;49m]\u001b[0m\u001b[39;49m A new release of pip is available: \u001b[0m\u001b[31;49m25.0.1\u001b[0m\u001b[39;49m -> \u001b[0m\u001b[32;49m25.1.1\u001b[0m\n",
      "\u001b[1m[\u001b[0m\u001b[34;49mnotice\u001b[0m\u001b[1;39;49m]\u001b[0m\u001b[39;49m To update, run: \u001b[0m\u001b[32;49mpip install --upgrade pip\u001b[0m\n",
      "Note: you may need to restart the kernel to use updated packages.\n",
      "Requirement already satisfied: matplotlib in /root/Modul_12/AMLHC_Tasks_NAST/.venv/lib/python3.12/site-packages (3.10.1)\n",
      "Requirement already satisfied: contourpy>=1.0.1 in /root/Modul_12/AMLHC_Tasks_NAST/.venv/lib/python3.12/site-packages (from matplotlib) (1.3.1)\n",
      "Requirement already satisfied: cycler>=0.10 in /root/Modul_12/AMLHC_Tasks_NAST/.venv/lib/python3.12/site-packages (from matplotlib) (0.12.1)\n",
      "Requirement already satisfied: fonttools>=4.22.0 in /root/Modul_12/AMLHC_Tasks_NAST/.venv/lib/python3.12/site-packages (from matplotlib) (4.57.0)\n",
      "Requirement already satisfied: kiwisolver>=1.3.1 in /root/Modul_12/AMLHC_Tasks_NAST/.venv/lib/python3.12/site-packages (from matplotlib) (1.4.8)\n",
      "Requirement already satisfied: numpy>=1.23 in /root/Modul_12/AMLHC_Tasks_NAST/.venv/lib/python3.12/site-packages (from matplotlib) (2.2.4)\n",
      "Requirement already satisfied: packaging>=20.0 in /root/Modul_12/AMLHC_Tasks_NAST/.venv/lib/python3.12/site-packages (from matplotlib) (24.2)\n",
      "Requirement already satisfied: pillow>=8 in /root/Modul_12/AMLHC_Tasks_NAST/.venv/lib/python3.12/site-packages (from matplotlib) (11.1.0)\n",
      "Requirement already satisfied: pyparsing>=2.3.1 in /root/Modul_12/AMLHC_Tasks_NAST/.venv/lib/python3.12/site-packages (from matplotlib) (3.2.3)\n",
      "Requirement already satisfied: python-dateutil>=2.7 in /root/Modul_12/AMLHC_Tasks_NAST/.venv/lib/python3.12/site-packages (from matplotlib) (2.9.0.post0)\n",
      "Requirement already satisfied: six>=1.5 in /root/Modul_12/AMLHC_Tasks_NAST/.venv/lib/python3.12/site-packages (from python-dateutil>=2.7->matplotlib) (1.17.0)\n",
      "\n",
      "\u001b[1m[\u001b[0m\u001b[34;49mnotice\u001b[0m\u001b[1;39;49m]\u001b[0m\u001b[39;49m A new release of pip is available: \u001b[0m\u001b[31;49m25.0.1\u001b[0m\u001b[39;49m -> \u001b[0m\u001b[32;49m25.1.1\u001b[0m\n",
      "\u001b[1m[\u001b[0m\u001b[34;49mnotice\u001b[0m\u001b[1;39;49m]\u001b[0m\u001b[39;49m To update, run: \u001b[0m\u001b[32;49mpip install --upgrade pip\u001b[0m\n",
      "Note: you may need to restart the kernel to use updated packages.\n",
      "Requirement already satisfied: seaborn in /root/Modul_12/AMLHC_Tasks_NAST/.venv/lib/python3.12/site-packages (0.13.2)\n",
      "Requirement already satisfied: numpy!=1.24.0,>=1.20 in /root/Modul_12/AMLHC_Tasks_NAST/.venv/lib/python3.12/site-packages (from seaborn) (2.2.4)\n",
      "Requirement already satisfied: pandas>=1.2 in /root/Modul_12/AMLHC_Tasks_NAST/.venv/lib/python3.12/site-packages (from seaborn) (2.2.3)\n",
      "Requirement already satisfied: matplotlib!=3.6.1,>=3.4 in /root/Modul_12/AMLHC_Tasks_NAST/.venv/lib/python3.12/site-packages (from seaborn) (3.10.1)\n",
      "Requirement already satisfied: contourpy>=1.0.1 in /root/Modul_12/AMLHC_Tasks_NAST/.venv/lib/python3.12/site-packages (from matplotlib!=3.6.1,>=3.4->seaborn) (1.3.1)\n",
      "Requirement already satisfied: cycler>=0.10 in /root/Modul_12/AMLHC_Tasks_NAST/.venv/lib/python3.12/site-packages (from matplotlib!=3.6.1,>=3.4->seaborn) (0.12.1)\n",
      "Requirement already satisfied: fonttools>=4.22.0 in /root/Modul_12/AMLHC_Tasks_NAST/.venv/lib/python3.12/site-packages (from matplotlib!=3.6.1,>=3.4->seaborn) (4.57.0)\n",
      "Requirement already satisfied: kiwisolver>=1.3.1 in /root/Modul_12/AMLHC_Tasks_NAST/.venv/lib/python3.12/site-packages (from matplotlib!=3.6.1,>=3.4->seaborn) (1.4.8)\n",
      "Requirement already satisfied: packaging>=20.0 in /root/Modul_12/AMLHC_Tasks_NAST/.venv/lib/python3.12/site-packages (from matplotlib!=3.6.1,>=3.4->seaborn) (24.2)\n",
      "Requirement already satisfied: pillow>=8 in /root/Modul_12/AMLHC_Tasks_NAST/.venv/lib/python3.12/site-packages (from matplotlib!=3.6.1,>=3.4->seaborn) (11.1.0)\n",
      "Requirement already satisfied: pyparsing>=2.3.1 in /root/Modul_12/AMLHC_Tasks_NAST/.venv/lib/python3.12/site-packages (from matplotlib!=3.6.1,>=3.4->seaborn) (3.2.3)\n",
      "Requirement already satisfied: python-dateutil>=2.7 in /root/Modul_12/AMLHC_Tasks_NAST/.venv/lib/python3.12/site-packages (from matplotlib!=3.6.1,>=3.4->seaborn) (2.9.0.post0)\n",
      "Requirement already satisfied: pytz>=2020.1 in /root/Modul_12/AMLHC_Tasks_NAST/.venv/lib/python3.12/site-packages (from pandas>=1.2->seaborn) (2025.2)\n",
      "Requirement already satisfied: tzdata>=2022.7 in /root/Modul_12/AMLHC_Tasks_NAST/.venv/lib/python3.12/site-packages (from pandas>=1.2->seaborn) (2025.2)\n",
      "Requirement already satisfied: six>=1.5 in /root/Modul_12/AMLHC_Tasks_NAST/.venv/lib/python3.12/site-packages (from python-dateutil>=2.7->matplotlib!=3.6.1,>=3.4->seaborn) (1.17.0)\n",
      "\n",
      "\u001b[1m[\u001b[0m\u001b[34;49mnotice\u001b[0m\u001b[1;39;49m]\u001b[0m\u001b[39;49m A new release of pip is available: \u001b[0m\u001b[31;49m25.0.1\u001b[0m\u001b[39;49m -> \u001b[0m\u001b[32;49m25.1.1\u001b[0m\n",
      "\u001b[1m[\u001b[0m\u001b[34;49mnotice\u001b[0m\u001b[1;39;49m]\u001b[0m\u001b[39;49m To update, run: \u001b[0m\u001b[32;49mpip install --upgrade pip\u001b[0m\n",
      "Note: you may need to restart the kernel to use updated packages.\n"
     ]
    }
   ],
   "source": [
    "%pip install pandas\n",
    "%pip install StandardScaler            \n",
    "%pip install matplotlib \n",
    "%pip install seaborn"
   ]
  },
  {
   "cell_type": "markdown",
   "metadata": {},
   "source": [
    "## Import CSV File"
   ]
  },
  {
   "cell_type": "code",
   "execution_count": null,
   "metadata": {},
   "outputs": [],
   "source": [
    "import pandas as pd\n",
    "from sklearn.model_selection import train_test_split, GridSearchCV, cross_val_score\n",
    "from sklearn.ensemble import RandomForestClassifier\n",
    "from sklearn.preprocessing import StandardScaler\n",
    "from sklearn.metrics import (\n",
    "    accuracy_score,\n",
    "    confusion_matrix,\n",
    "    cohen_kappa_score,\n",
    "    roc_auc_score,\n",
    "    classification_report,\n",
    ")\n",
    "\n",
    "df = pd.read_csv('data/cox2.csv')  \n"
   ]
  },
  {
   "cell_type": "markdown",
   "metadata": {},
   "source": [
    "## Split the dataset"
   ]
  },
  {
   "cell_type": "code",
   "execution_count": 2,
   "metadata": {},
   "outputs": [],
   "source": [
    "X = df.drop(columns=['cox2Class', 'IC50'])  \n",
    "y = df['cox2Class'] \n",
    "X_train, X_test, y_train, y_test = train_test_split(\n",
    "    X, y, test_size=0.25, random_state=42, stratify=y\n",
    ") "
   ]
  },
  {
   "cell_type": "markdown",
   "metadata": {},
   "source": [
    "## Select a Learning Method & Preprocessing"
   ]
  },
  {
   "cell_type": "code",
   "execution_count": null,
   "metadata": {},
   "outputs": [],
   "source": [
    "scaler = StandardScaler()  \n",
    "X_train_scaled = scaler.fit_transform(X_train)  \n",
    "X_test_scaled = scaler.transform(X_test)\n",
    "\n",
    "rf = RandomForestClassifier(random_state=42)  \n"
   ]
  },
  {
   "cell_type": "markdown",
   "metadata": {},
   "source": [
    "## Define a tuning grid"
   ]
  },
  {
   "cell_type": "code",
   "execution_count": null,
   "metadata": {},
   "outputs": [
    {
     "name": "stdout",
     "output_type": "stream",
     "text": [
      "4. Beste Parameter: {'max_depth': 10, 'max_features': 'log2', 'n_estimators': 100}\n",
      "   Bestes CV-MSE: 0.2636393732327271\n"
     ]
    }
   ],
   "source": [
    "param_grid = {\n",
    "    'n_estimators': [100, 200],\n",
    "    'max_depth': [None, 10, 20],\n",
    "    'max_features': ['sqrt', 'log2']\n",
    "}  \n",
    "\n",
    "grid_search = GridSearchCV(\n",
    "    rf,\n",
    "    param_grid,\n",
    "    cv=10,\n",
    "    scoring='accuracy',\n",
    "    n_jobs=-1\n",
    ")  "
   ]
  },
  {
   "cell_type": "markdown",
   "metadata": {},
   "source": [
    "## Analyze performance values"
   ]
  },
  {
   "cell_type": "code",
   "execution_count": 22,
   "metadata": {},
   "outputs": [
    {
     "name": "stdout",
     "output_type": "stream",
     "text": [
      "\n",
      "6. Feature Importances (Top 10):\n",
      "   tcnp: 0.0346\n",
      "   tpsa: 0.0336\n",
      "   polar_area: 0.0308\n",
      "   most_positive_charge: 0.0291\n",
      "   logp.o.w.: 0.0283\n",
      "   vsa_acc: 0.0253\n",
      "   fnsa3: 0.0252\n",
      "   psa_npsa: 0.0239\n",
      "   prx: 0.0206\n",
      "   mlogp: 0.0196\n"
     ]
    }
   ],
   "source": [
    "best_rf = grid_search.best_estimator_\n",
    "importances = best_rf.feature_importances_\n",
    "feature_names = X.columns\n",
    "sorted_idx = importances.argsort()[::-1]\n",
    "\n",
    "print(\"\\n6. Feature Importances (Top 10):\")\n",
    "for i in range(10):\n",
    "    print(f\"   {feature_names[sorted_idx[i]]}: {importances[sorted_idx[i]]:.4f}\")"
   ]
  },
  {
   "cell_type": "markdown",
   "metadata": {},
   "source": [
    "## Apply the final model to the test set"
   ]
  },
  {
   "cell_type": "code",
   "execution_count": 23,
   "metadata": {},
   "outputs": [
    {
     "name": "stdout",
     "output_type": "stream",
     "text": [
      "\n",
      "7. Test-MSE: 0.2496\n",
      "   Test-R2: 0.4029\n"
     ]
    }
   ],
   "source": [
    "from sklearn.metrics import mean_squared_error, r2_score\n",
    "\n",
    "y_pred = best_rf.predict(X_test_scaled)\n",
    "mse = mean_squared_error(y_test, y_pred)\n",
    "r2 = r2_score(y_test, y_pred)\n",
    "\n",
    "print(f\"\\n7. Test-MSE: {mse:.4f}\")\n",
    "print(f\"   Test-R2: {r2:.4f}\")"
   ]
  }
 ],
 "metadata": {
  "kernelspec": {
   "display_name": ".venv",
   "language": "python",
   "name": "python3"
  },
  "language_info": {
   "codemirror_mode": {
    "name": "ipython",
    "version": 3
   },
   "file_extension": ".py",
   "mimetype": "text/x-python",
   "name": "python",
   "nbconvert_exporter": "python",
   "pygments_lexer": "ipython3",
   "version": "3.12.3"
  }
 },
 "nbformat": 4,
 "nbformat_minor": 2
}
