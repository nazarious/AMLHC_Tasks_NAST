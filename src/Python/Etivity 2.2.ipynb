{
 "cells": [
  {
   "cell_type": "markdown",
   "metadata": {},
   "source": [
    "# Supervised preprocessing and visualization"
   ]
  },
  {
   "cell_type": "markdown",
   "metadata": {},
   "source": [
    "Import CSV Daten"
   ]
  },
  {
   "cell_type": "code",
   "execution_count": 6,
   "metadata": {},
   "outputs": [
    {
     "name": "stdout",
     "output_type": "stream",
     "text": [
      "   preg  plas  pres  skin  insu  mass   pedi  age            class\n",
      "0     6   148    72    35     0  33.6  0.627   50  tested_positive\n",
      "1     1    85    66    29     0  26.6  0.351   31  tested_negative\n",
      "2     8   183    64     0     0  23.3  0.672   32  tested_positive\n",
      "3     1    89    66    23    94  28.1  0.167   21  tested_negative\n",
      "4     0   137    40    35   168  43.1  2.288   33  tested_positive\n"
     ]
    }
   ],
   "source": [
    "import pandas as pd\n",
    "data = pd.read_csv(\"data/diabetes.csv\")\n",
    "print(data.head()) "
   ]
  },
  {
   "cell_type": "markdown",
   "metadata": {},
   "source": [
    "## IQR"
   ]
  },
  {
   "cell_type": "code",
   "execution_count": 8,
   "metadata": {},
   "outputs": [
    {
     "name": "stdout",
     "output_type": "stream",
     "text": [
      "preg      4\n",
      "plas      5\n",
      "pres     49\n",
      "skin      1\n",
      "insu     41\n",
      "mass     19\n",
      "pedi     41\n",
      "age      16\n",
      "class     0\n",
      "dtype: int64\n"
     ]
    }
   ],
   "source": [
    "# Funktion zur IQR-basierten Ausreißererkennung\n",
    "def detect_outliers_iqr(df, column):\n",
    "    Q1 = df[column].quantile(0.25)\n",
    "    Q3 = df[column].quantile(0.75)\n",
    "    IQR = Q3 - Q1\n",
    "    lower_bound = Q1 - 1.5 * IQR\n",
    "    upper_bound = Q3 + 1.5 * IQR\n",
    "    return (df[column] < lower_bound) | (df[column] > upper_bound)\n",
    "\n",
    "for col in data.select_dtypes(include=['float64', 'int64']).columns:\n",
    "    outliers = detect_outliers_iqr(data, col)\n",
    "    data.loc[outliers, col] = None\n",
    "\n",
    "print(data.isnull().sum())  # Anzahl fehlender Werte anzeigen\n"
   ]
  },
  {
   "cell_type": "code",
   "execution_count": 10,
   "metadata": {},
   "outputs": [
    {
     "name": "stdout",
     "output_type": "stream",
     "text": [
      "(611, 9)\n"
     ]
    }
   ],
   "source": [
    "# Nur vollständige Fälle auswählen\n",
    "data_cleaned = data.dropna()\n",
    "\n",
    "print(data_cleaned.shape)  # Dimensionen des bereinigten Datensatzes anzeigen"
   ]
  },
  {
   "cell_type": "code",
   "execution_count": null,
   "metadata": {},
   "outputs": [],
   "source": [
    "# Statistische Beschreibung der Features\n",
    "print(data_cleaned.describe())\n"
   ]
  },
  {
   "cell_type": "code",
   "execution_count": null,
   "metadata": {},
   "outputs": [],
   "source": [
    "from sklearn.feature_selection import chi2\n",
    "import numpy as np\n",
    "\n",
    "# Separate features and target variable\n",
    "X = data_cleaned.drop(columns=['class'])\n",
    "y = data_cleaned['class']\n",
    "\n",
    "# Apply Chi-squared test\n",
    "chi2_scores, p_values = chi2(X, y)\n",
    "\n",
    "# Create a DataFrame to display the scores\n",
    "chi2_df = pd.DataFrame({'Feature': X.columns, 'Chi2 Score': chi2_scores, 'p-value': p_values})\n",
    "chi2_df = chi2_df.sort_values(by='Chi2 Score', ascending=False)\n",
    "\n",
    "print(chi2_df)"
   ]
  }
 ],
 "metadata": {
  "kernelspec": {
   "display_name": ".venv",
   "language": "python",
   "name": "python3"
  },
  "language_info": {
   "codemirror_mode": {
    "name": "ipython",
    "version": 3
   },
   "file_extension": ".py",
   "mimetype": "text/x-python",
   "name": "python",
   "nbconvert_exporter": "python",
   "pygments_lexer": "ipython3",
   "version": "3.12.3"
  }
 },
 "nbformat": 4,
 "nbformat_minor": 2
}
